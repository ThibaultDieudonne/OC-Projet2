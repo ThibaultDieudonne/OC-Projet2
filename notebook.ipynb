{
 "cells": [
  {
   "cell_type": "markdown",
   "metadata": {},
   "source": [
    "\n",
    "# **Présentation générale du jeu de données**"
   ]
  },
  {
   "cell_type": "code",
   "execution_count": 11,
   "metadata": {},
   "outputs": [
    {
     "name": "stdout",
     "output_type": "stream",
     "text": [
      "(200137, 18)\n"
     ]
    },
    {
     "data": {
      "text/plain": [
       "id                          0\n",
       "type_emplacement            0\n",
       "domanialite                 1\n",
       "arrondissement              0\n",
       "complement_addresse    169235\n",
       "numero                 200137\n",
       "lieu                        0\n",
       "id_emplacement              0\n",
       "libelle_francais         1497\n",
       "genre                      16\n",
       "espece                   1752\n",
       "variete                163360\n",
       "circonference_cm            0\n",
       "hauteur_m                   0\n",
       "stade_developpement     67205\n",
       "remarquable             63098\n",
       "geo_point_2d_a              0\n",
       "geo_point_2d_b              0\n",
       "dtype: int64"
      ]
     },
     "execution_count": 11,
     "metadata": {},
     "output_type": "execute_result"
    }
   ],
   "source": [
    "import os\n",
    "import math\n",
    "\n",
    "import pandas as pd\n",
    "import matplotlib.pyplot as plt\n",
    "import seaborn as sns\n",
    "\n",
    "import geopandas\n",
    "\n",
    "arbres = pd.read_csv(\"p2-arbres-fr.csv\", sep=\";\")\n",
    "\n",
    "print(f\"Le data set est composé de {arbres.shape[1]} colonnes et  {arbres.shape[0]} éléments.\")\n",
    "\n"
   ]
  },
  {
   "cell_type": "code",
   "execution_count": 12,
   "metadata": {},
   "outputs": [
    {
     "data": {
      "text/html": [
       "<div>\n",
       "<style scoped>\n",
       "    .dataframe tbody tr th:only-of-type {\n",
       "        vertical-align: middle;\n",
       "    }\n",
       "\n",
       "    .dataframe tbody tr th {\n",
       "        vertical-align: top;\n",
       "    }\n",
       "\n",
       "    .dataframe thead th {\n",
       "        text-align: right;\n",
       "    }\n",
       "</style>\n",
       "<table border=\"1\" class=\"dataframe\">\n",
       "  <thead>\n",
       "    <tr style=\"text-align: right;\">\n",
       "      <th></th>\n",
       "      <th>id</th>\n",
       "      <th>type_emplacement</th>\n",
       "      <th>domanialite</th>\n",
       "      <th>arrondissement</th>\n",
       "      <th>complement_addresse</th>\n",
       "      <th>numero</th>\n",
       "      <th>lieu</th>\n",
       "      <th>id_emplacement</th>\n",
       "      <th>libelle_francais</th>\n",
       "      <th>genre</th>\n",
       "      <th>espece</th>\n",
       "      <th>variete</th>\n",
       "      <th>circonference_cm</th>\n",
       "      <th>hauteur_m</th>\n",
       "      <th>stade_developpement</th>\n",
       "      <th>remarquable</th>\n",
       "      <th>geo_point_2d_a</th>\n",
       "      <th>geo_point_2d_b</th>\n",
       "    </tr>\n",
       "  </thead>\n",
       "  <tbody>\n",
       "    <tr>\n",
       "      <th>0</th>\n",
       "      <td>99874</td>\n",
       "      <td>Arbre</td>\n",
       "      <td>Jardin</td>\n",
       "      <td>PARIS 7E ARRDT</td>\n",
       "      <td>NaN</td>\n",
       "      <td>NaN</td>\n",
       "      <td>MAIRIE DU 7E 116 RUE DE GRENELLE PARIS 7E</td>\n",
       "      <td>19</td>\n",
       "      <td>Marronnier</td>\n",
       "      <td>Aesculus</td>\n",
       "      <td>hippocastanum</td>\n",
       "      <td>NaN</td>\n",
       "      <td>20</td>\n",
       "      <td>5</td>\n",
       "      <td>NaN</td>\n",
       "      <td>0.0</td>\n",
       "      <td>48.857620</td>\n",
       "      <td>2.320962</td>\n",
       "    </tr>\n",
       "    <tr>\n",
       "      <th>1</th>\n",
       "      <td>99875</td>\n",
       "      <td>Arbre</td>\n",
       "      <td>Jardin</td>\n",
       "      <td>PARIS 7E ARRDT</td>\n",
       "      <td>NaN</td>\n",
       "      <td>NaN</td>\n",
       "      <td>MAIRIE DU 7E 116 RUE DE GRENELLE PARIS 7E</td>\n",
       "      <td>20</td>\n",
       "      <td>If</td>\n",
       "      <td>Taxus</td>\n",
       "      <td>baccata</td>\n",
       "      <td>NaN</td>\n",
       "      <td>65</td>\n",
       "      <td>8</td>\n",
       "      <td>A</td>\n",
       "      <td>NaN</td>\n",
       "      <td>48.857656</td>\n",
       "      <td>2.321031</td>\n",
       "    </tr>\n",
       "    <tr>\n",
       "      <th>2</th>\n",
       "      <td>99876</td>\n",
       "      <td>Arbre</td>\n",
       "      <td>Jardin</td>\n",
       "      <td>PARIS 7E ARRDT</td>\n",
       "      <td>NaN</td>\n",
       "      <td>NaN</td>\n",
       "      <td>MAIRIE DU 7E 116 RUE DE GRENELLE PARIS 7E</td>\n",
       "      <td>21</td>\n",
       "      <td>If</td>\n",
       "      <td>Taxus</td>\n",
       "      <td>baccata</td>\n",
       "      <td>NaN</td>\n",
       "      <td>90</td>\n",
       "      <td>10</td>\n",
       "      <td>A</td>\n",
       "      <td>NaN</td>\n",
       "      <td>48.857705</td>\n",
       "      <td>2.321061</td>\n",
       "    </tr>\n",
       "    <tr>\n",
       "      <th>3</th>\n",
       "      <td>99877</td>\n",
       "      <td>Arbre</td>\n",
       "      <td>Jardin</td>\n",
       "      <td>PARIS 7E ARRDT</td>\n",
       "      <td>NaN</td>\n",
       "      <td>NaN</td>\n",
       "      <td>MAIRIE DU 7E 116 RUE DE GRENELLE PARIS 7E</td>\n",
       "      <td>22</td>\n",
       "      <td>Erable</td>\n",
       "      <td>Acer</td>\n",
       "      <td>negundo</td>\n",
       "      <td>NaN</td>\n",
       "      <td>60</td>\n",
       "      <td>8</td>\n",
       "      <td>A</td>\n",
       "      <td>NaN</td>\n",
       "      <td>48.857722</td>\n",
       "      <td>2.321006</td>\n",
       "    </tr>\n",
       "    <tr>\n",
       "      <th>4</th>\n",
       "      <td>99878</td>\n",
       "      <td>Arbre</td>\n",
       "      <td>Jardin</td>\n",
       "      <td>PARIS 17E ARRDT</td>\n",
       "      <td>NaN</td>\n",
       "      <td>NaN</td>\n",
       "      <td>PARC CLICHY-BATIGNOLLES-MARTIN LUTHER KING</td>\n",
       "      <td>000G0037</td>\n",
       "      <td>Arbre à miel</td>\n",
       "      <td>Tetradium</td>\n",
       "      <td>daniellii</td>\n",
       "      <td>NaN</td>\n",
       "      <td>38</td>\n",
       "      <td>0</td>\n",
       "      <td>NaN</td>\n",
       "      <td>NaN</td>\n",
       "      <td>48.890435</td>\n",
       "      <td>2.315289</td>\n",
       "    </tr>\n",
       "  </tbody>\n",
       "</table>\n",
       "</div>"
      ],
      "text/plain": [
       "      id type_emplacement domanialite   arrondissement complement_addresse  \\\n",
       "0  99874            Arbre      Jardin   PARIS 7E ARRDT                 NaN   \n",
       "1  99875            Arbre      Jardin   PARIS 7E ARRDT                 NaN   \n",
       "2  99876            Arbre      Jardin   PARIS 7E ARRDT                 NaN   \n",
       "3  99877            Arbre      Jardin   PARIS 7E ARRDT                 NaN   \n",
       "4  99878            Arbre      Jardin  PARIS 17E ARRDT                 NaN   \n",
       "\n",
       "   numero                                        lieu id_emplacement  \\\n",
       "0     NaN   MAIRIE DU 7E 116 RUE DE GRENELLE PARIS 7E             19   \n",
       "1     NaN   MAIRIE DU 7E 116 RUE DE GRENELLE PARIS 7E             20   \n",
       "2     NaN   MAIRIE DU 7E 116 RUE DE GRENELLE PARIS 7E             21   \n",
       "3     NaN   MAIRIE DU 7E 116 RUE DE GRENELLE PARIS 7E             22   \n",
       "4     NaN  PARC CLICHY-BATIGNOLLES-MARTIN LUTHER KING       000G0037   \n",
       "\n",
       "  libelle_francais      genre         espece variete  circonference_cm  \\\n",
       "0       Marronnier   Aesculus  hippocastanum     NaN                20   \n",
       "1               If      Taxus        baccata     NaN                65   \n",
       "2               If      Taxus        baccata     NaN                90   \n",
       "3           Erable       Acer        negundo     NaN                60   \n",
       "4     Arbre à miel  Tetradium      daniellii     NaN                38   \n",
       "\n",
       "   hauteur_m stade_developpement  remarquable  geo_point_2d_a  geo_point_2d_b  \n",
       "0          5                 NaN          0.0       48.857620        2.320962  \n",
       "1          8                   A          NaN       48.857656        2.321031  \n",
       "2         10                   A          NaN       48.857705        2.321061  \n",
       "3          8                   A          NaN       48.857722        2.321006  \n",
       "4          0                 NaN          NaN       48.890435        2.315289  "
      ]
     },
     "execution_count": 12,
     "metadata": {},
     "output_type": "execute_result"
    }
   ],
   "source": [
    "arbres.head()"
   ]
  },
  {
   "cell_type": "code",
   "execution_count": 13,
   "metadata": {},
   "outputs": [
    {
     "data": {
      "text/plain": [
       "id                          0\n",
       "type_emplacement            0\n",
       "domanialite                 1\n",
       "arrondissement              0\n",
       "complement_addresse    169235\n",
       "numero                 200137\n",
       "lieu                        0\n",
       "id_emplacement              0\n",
       "libelle_francais         1497\n",
       "genre                      16\n",
       "espece                   1752\n",
       "variete                163360\n",
       "circonference_cm            0\n",
       "hauteur_m                   0\n",
       "stade_developpement     67205\n",
       "remarquable             63098\n",
       "geo_point_2d_a              0\n",
       "geo_point_2d_b              0\n",
       "dtype: int64"
      ]
     },
     "execution_count": 13,
     "metadata": {},
     "output_type": "execute_result"
    }
   ],
   "source": [
    "arbres.isnull().sum()"
   ]
  },
  {
   "cell_type": "markdown",
   "metadata": {},
   "source": [
    "# **Démarche méthodologique d’analyse de données**"
   ]
  },
  {
   "cell_type": "code",
   "execution_count": 2,
   "metadata": {},
   "outputs": [],
   "source": [
    "# replace nan's in specie column\n",
    "null_species_trees = arbres[arbres[\"libelle_francais\"].isnull()]\n",
    "for index, row in null_species_trees.iterrows():\n",
    "    arbres.at[index, \"libelle_francais\"] = \"Inconnu\""
   ]
  },
  {
   "cell_type": "code",
   "execution_count": 3,
   "metadata": {},
   "outputs": [
    {
     "data": {
      "text/html": [
       "<div>\n",
       "<style scoped>\n",
       "    .dataframe tbody tr th:only-of-type {\n",
       "        vertical-align: middle;\n",
       "    }\n",
       "\n",
       "    .dataframe tbody tr th {\n",
       "        vertical-align: top;\n",
       "    }\n",
       "\n",
       "    .dataframe thead th {\n",
       "        text-align: right;\n",
       "    }\n",
       "</style>\n",
       "<table border=\"1\" class=\"dataframe\">\n",
       "  <thead>\n",
       "    <tr style=\"text-align: right;\">\n",
       "      <th></th>\n",
       "      <th>Espece</th>\n",
       "      <th>Nombre d'arbres</th>\n",
       "      <th>Valeurs aberrantes/manquantes</th>\n",
       "    </tr>\n",
       "  </thead>\n",
       "  <tbody>\n",
       "    <tr>\n",
       "      <th>0</th>\n",
       "      <td>Marronnier</td>\n",
       "      <td>25207</td>\n",
       "      <td>4121</td>\n",
       "    </tr>\n",
       "    <tr>\n",
       "      <th>1</th>\n",
       "      <td>If</td>\n",
       "      <td>1995</td>\n",
       "      <td>797</td>\n",
       "    </tr>\n",
       "    <tr>\n",
       "      <th>2</th>\n",
       "      <td>Erable</td>\n",
       "      <td>18389</td>\n",
       "      <td>10088</td>\n",
       "    </tr>\n",
       "    <tr>\n",
       "      <th>3</th>\n",
       "      <td>Arbre à miel</td>\n",
       "      <td>53</td>\n",
       "      <td>40</td>\n",
       "    </tr>\n",
       "    <tr>\n",
       "      <th>4</th>\n",
       "      <td>Platane</td>\n",
       "      <td>42508</td>\n",
       "      <td>5839</td>\n",
       "    </tr>\n",
       "    <tr>\n",
       "      <th>...</th>\n",
       "      <td>...</td>\n",
       "      <td>...</td>\n",
       "      <td>...</td>\n",
       "    </tr>\n",
       "    <tr>\n",
       "      <th>188</th>\n",
       "      <td>Ormeau épineux</td>\n",
       "      <td>1</td>\n",
       "      <td>2</td>\n",
       "    </tr>\n",
       "    <tr>\n",
       "      <th>189</th>\n",
       "      <td>Ostryer</td>\n",
       "      <td>1</td>\n",
       "      <td>2</td>\n",
       "    </tr>\n",
       "    <tr>\n",
       "      <th>190</th>\n",
       "      <td>Xanthoceras</td>\n",
       "      <td>1</td>\n",
       "      <td>2</td>\n",
       "    </tr>\n",
       "    <tr>\n",
       "      <th>191</th>\n",
       "      <td>Parrotiopsis</td>\n",
       "      <td>2</td>\n",
       "      <td>4</td>\n",
       "    </tr>\n",
       "    <tr>\n",
       "      <th>192</th>\n",
       "      <td>Garrya</td>\n",
       "      <td>1</td>\n",
       "      <td>2</td>\n",
       "    </tr>\n",
       "  </tbody>\n",
       "</table>\n",
       "<p>193 rows × 3 columns</p>\n",
       "</div>"
      ],
      "text/plain": [
       "             Espece Nombre d'arbres Valeurs aberrantes/manquantes\n",
       "0        Marronnier           25207                          4121\n",
       "1                If            1995                           797\n",
       "2            Erable           18389                         10088\n",
       "3      Arbre à miel              53                            40\n",
       "4           Platane           42508                          5839\n",
       "..              ...             ...                           ...\n",
       "188  Ormeau épineux               1                             2\n",
       "189         Ostryer               1                             2\n",
       "190     Xanthoceras               1                             2\n",
       "191    Parrotiopsis               2                             4\n",
       "192          Garrya               1                             2\n",
       "\n",
       "[193 rows x 3 columns]"
      ]
     },
     "execution_count": 3,
     "metadata": {},
     "output_type": "execute_result"
    }
   ],
   "source": [
    "# get rid of aberrant values and replace nan's in height and circumference columns\n",
    "caracs = [\"circonference_cm\", \"hauteur_m\"]\n",
    "especes = arbres.libelle_francais.unique() # list of unique tree species\n",
    "\n",
    "corrections = pd.DataFrame(columns=[\"Espece\", \"Nombre d'arbres\", \"Valeurs aberrantes/manquantes\"])\n",
    "\n",
    "for nesp, esp in enumerate(especes):\n",
    "    \n",
    "    counter = 0\n",
    "     \n",
    "    # getting sub dafaframe for a specific specie\n",
    "    espece_mask = arbres[\"libelle_francais\"] == esp\n",
    "    espece_arbres = arbres[espece_mask]\n",
    "    # getting desciptive statistics\n",
    "    stats = espece_arbres[caracs].describe()\n",
    "\n",
    "    for carac in caracs:\n",
    "        # calculating thresholds for aberrant values\n",
    "        q1 = stats[carac].loc[\"25%\"]\n",
    "        q2 = stats[carac].loc[\"50%\"]\n",
    "        q3 = stats[carac].loc[\"75%\"]\n",
    "        lower_bound = 0 # a newborn tree can be any height or circumference\n",
    "        upper_bound = q3 + 3 * (q3 - q1)\n",
    "        default_value = q3 + 1.5 * (q3 - q1)\n",
    "        \n",
    "        # replacing aberrant & missing values in parent dataframe\n",
    "        for index, row in espece_arbres.iterrows():\n",
    "            if math.isnan(row[carac]) or row[carac] == 0: # missing value, replacing with median\n",
    "                counter += 1\n",
    "                arbres.at[index, carac] = q2\n",
    "            if row[carac] > upper_bound: # too tall\n",
    "                counter += 1\n",
    "                arbres.at[index, carac] = default_value\n",
    "            elif row[carac] < lower_bound: # too small, replacing with median\n",
    "                counter += 1\n",
    "                arbres.at[index, carac] = q2\n",
    "                \n",
    "    corrections.loc[nesp] = [esp, espece_arbres.shape[0], counter]\n",
    "\n",
    "corrections\n",
    "\n"
   ]
  },
  {
   "cell_type": "code",
   "execution_count": 4,
   "metadata": {},
   "outputs": [
    {
     "name": "stdout",
     "output_type": "stream",
     "text": [
      "In PARIS 7E ARRDT, 731 development stages are missing.\n",
      "In PARIS 17E ARRDT, 3302 development stages are missing.\n",
      "In PARIS 16E ARRDT, 4867 development stages are missing.\n",
      "In PARIS 4E ARRDT, 724 development stages are missing.\n",
      "In PARIS 13E ARRDT, 6451 development stages are missing.\n",
      "In PARIS 12E ARRDT, 3821 development stages are missing.\n",
      "In PARIS 19E ARRDT, 6300 development stages are missing.\n",
      "In PARIS 14E ARRDT, 1244 development stages are missing.\n",
      "In PARIS 15E ARRDT, 7427 development stages are missing.\n",
      "In PARIS 3E ARRDT, 259 development stages are missing.\n",
      "In PARIS 20E ARRDT, 2902 development stages are missing.\n",
      "In PARIS 18E ARRDT, 2969 development stages are missing.\n",
      "In PARIS 6E ARRDT, 339 development stages are missing.\n",
      "In PARIS 11E ARRDT, 1181 development stages are missing.\n",
      "In PARIS 1ER ARRDT, 411 development stages are missing.\n",
      "In PARIS 2E ARRDT, 79 development stages are missing.\n",
      "In PARIS 5E ARRDT, 636 development stages are missing.\n",
      "In VAL-DE-MARNE, 4126 development stages are missing.\n",
      "In SEINE-SAINT-DENIS, 8446 development stages are missing.\n",
      "In HAUTS-DE-SEINE, 4988 development stages are missing.\n",
      "In PARIS 9E ARRDT, 168 development stages are missing.\n",
      "In PARIS 10E ARRDT, 613 development stages are missing.\n",
      "In PARIS 8E ARRDT, 926 development stages are missing.\n",
      "In BOIS DE BOULOGNE, 889 development stages are missing.\n",
      "In BOIS DE VINCENNES, 3406 development stages are missing.\n"
     ]
    },
    {
     "data": {
      "text/plain": [
       "id                          0\n",
       "type_emplacement            0\n",
       "domanialite                 1\n",
       "arrondissement              0\n",
       "complement_addresse    169235\n",
       "numero                 200137\n",
       "lieu                        0\n",
       "id_emplacement              0\n",
       "libelle_francais            0\n",
       "genre                      16\n",
       "espece                   1752\n",
       "variete                163360\n",
       "circonference_cm            0\n",
       "hauteur_m                   0\n",
       "stade_developpement         0\n",
       "remarquable             63098\n",
       "geo_point_2d_a              0\n",
       "geo_point_2d_b              0\n",
       "dtype: int64"
      ]
     },
     "execution_count": 4,
     "metadata": {},
     "output_type": "execute_result"
    }
   ],
   "source": [
    "# replace nan's in grow stages column\n",
    "stages = [x for x in arbres.stade_developpement.unique() if str(x) != 'nan']\n",
    "default_avgs = [0, 0, 0, 0]\n",
    "default_avgs[stages.index(\"J\")] = 1\n",
    "for arrdt in arbres.arrondissement.unique():\n",
    "    # get all trees for each arrdt\n",
    "    arrdt_arbres = arbres[arbres[\"arrondissement\"] == arrdt]\n",
    "    # get trees without specified development stage\n",
    "    null_stage_trees = arrdt_arbres[arrdt_arbres[\"stade_developpement\"].isnull()]\n",
    "    print(f\"In {arrdt}, {null_stage_trees.shape[0]} development stages were missing.\")\n",
    "    # get species concerned\n",
    "    for spe in null_stage_trees.libelle_francais.unique():\n",
    "        avgs = []\n",
    "        # get trees with same specie in specific arrdt\n",
    "        current_trees = arrdt_arbres[arrdt_arbres[\"libelle_francais\"] == spe]\n",
    "        current_null_trees = null_stage_trees[null_stage_trees[\"libelle_francais\"] == spe]\n",
    "        # get average height for trees with same location and specie, for each stage\n",
    "        for stage in stages:\n",
    "            avgs.append(current_trees[current_trees[\"stade_developpement\"] == stage][\"hauteur_m\"].mean())\n",
    "        # in case no other similar tree is documented, we assign the \"Junior\" stage\n",
    "        if all([math.isnan(x) for x in avgs]): avgs = [x for x in default_avgs]\n",
    "        # replace missing development stages with closest distance to previously calculated averages\n",
    "        for index, row in current_null_trees.iterrows():\n",
    "            h = row[\"hauteur_m\"]\n",
    "            new_stage = stages[avgs.index(min(avgs, key=lambda x:abs(x-h)))]\n",
    "            arbres.at[index, \"stade_developpement\"] = new_stage\n",
    "\n",
    "arbres.isnull().sum()\n"
   ]
  },
  {
   "cell_type": "markdown",
   "metadata": {},
   "source": [
    "# **Synthèse de l'analyse de données**"
   ]
  },
  {
   "cell_type": "code",
   "execution_count": 5,
   "metadata": {},
   "outputs": [],
   "source": [
    "# https://geopandas.org/gallery/create_geopandas_from_pandas.html#sphx-glr-gallery-create-geopandas-from-pandas-py\n",
    "# https://geopandas.org/geocoding.html\n",
    "mymap = geopandas.read_file(os.path.join(os.getcwd(), \"map\", \"Territoires_MGP.shp\"))"
   ]
  },
  {
   "cell_type": "code",
   "execution_count": 6,
   "metadata": {},
   "outputs": [
    {
     "data": {
      "image/png": "[encoded data removed]",
      "text/plain": [
       "<Figure size 432x288 with 1 Axes>"
      ]
     },
     "metadata": {
      "needs_background": "light"
     },
     "output_type": "display_data"
    }
   ],
   "source": [
    "fig, ax = plt.subplots()\n",
    "mymap.crs = {'init':'epsg:4326'}\n",
    "mymap.plot(ax=ax, color=\"white\", edgecolor=\"black\");\n",
    "test_df = arbres\n",
    "gdf = geopandas.GeoDataFrame(test_df, geometry=geopandas.points_from_xy(test_df.geo_point_2d_b, test_df.geo_point_2d_a))\n",
    "gdf.plot(ax=ax, color='green', markersize=1)\n",
    "plt.show()"
   ]
  },
  {
   "cell_type": "code",
   "execution_count": 7,
   "metadata": {},
   "outputs": [
    {
     "data": {
      "text/plain": [
       "<seaborn.axisgrid.FacetGrid at 0x228e6125e08>"
      ]
     },
     "execution_count": 7,
     "metadata": {},
     "output_type": "execute_result"
    },
    {
     "data": {
      "image/png": "[encoded data removed]",
      "text/plain": [
       "<Figure size 360x360 with 1 Axes>"
      ]
     },
     "metadata": {
      "needs_background": "light"
     },
     "output_type": "display_data"
    }
   ],
   "source": [
    "sns.displot(arbres, x=\"hauteur_m\", bins=50)"
   ]
  },
  {
   "cell_type": "code",
   "execution_count": 8,
   "metadata": {},
   "outputs": [
    {
     "data": {
      "text/plain": [
       "<seaborn.axisgrid.FacetGrid at 0x228ec048d08>"
      ]
     },
     "execution_count": 8,
     "metadata": {},
     "output_type": "execute_result"
    },
    {
     "data": {
      "image/png": "[encoded data removed]",
      "text/plain": [
       "<Figure size 360x360 with 1 Axes>"
      ]
     },
     "metadata": {
      "needs_background": "light"
     },
     "output_type": "display_data"
    }
   ],
   "source": [
    "arrdts = arbres.arrondissement.unique()\n",
    "arrdt_mask = arbres[\"arrondissement\"] == arrdts[0] # 7e arrdt trees\n",
    "arrdt_arbres = arbres[arrdt_mask]\n",
    "arrdt_arbres.head()\n",
    "sns.displot(arrdt_arbres, x=\"hauteur_m\", bins=10)"
   ]
  },
  {
   "cell_type": "code",
   "execution_count": 10,
   "metadata": {},
   "outputs": [
    {
     "name": "stdout",
     "output_type": "stream",
     "text": [
      "['Jardin', 'Alignement', 'DJS', 'DFPE', 'CIMETIERE', 'DASCO', 'DAC', 'PERIPHERIQUE', 'DASES']\n"
     ]
    }
   ],
   "source": [
    "dom = [x for x in arbres.domanialite.unique() if str(x) != 'nan']\n",
    "print(dom)"
   ]
  },
  {
   "cell_type": "code",
   "execution_count": null,
   "metadata": {},
   "outputs": [],
   "source": []
  }
 ],
 "metadata": {
  "kernelspec": {
   "display_name": "Python 3",
   "language": "python",
   "name": "python3"
  },
  "language_info": {
   "codemirror_mode": {
    "name": "ipython",
    "version": 3
   },
   "file_extension": ".py",
   "mimetype": "text/x-python",
   "name": "python",
   "nbconvert_exporter": "python",
   "pygments_lexer": "ipython3",
   "version": "3.7.4"
  }
 },
 "nbformat": 4,
 "nbformat_minor": 4
}
